{
 "cells": [
  {
   "cell_type": "markdown",
   "id": "37b52531-e817-44ea-8099-ba09973ac830",
   "metadata": {},
   "source": [
    "<h1>Data Science Tools and Ecosystem</h1>"
   ]
  },
  {
   "cell_type": "markdown",
   "id": "456c453e-94fd-406b-a169-2314fa5a0523",
   "metadata": {
    "jupyter": {
     "source_hidden": true
    },
    "tags": []
   },
   "source": [
    "<h2>In this notebook, Data Science Tools and Ecosystem are summarized</h2>"
   ]
  },
  {
   "cell_type": "markdown",
   "id": "65e691a2-4fdd-413f-a620-8d4e1f8ca53e",
   "metadata": {},
   "source": [
    "<h1>Data science languages</h1>\n",
    "<h3><ul>\n",
    "    <li>Python</li>\n",
    "    <li>Sql</li>\n",
    "    <li>R</li>\n",
    "    <li>Scala</li>\n",
    "    <li>Julia</li>\n",
    "    <li>Java</li>\n",
    "    <li>Go</li>\n",
    "</ul> </h3>   "
   ]
  },
  {
   "cell_type": "markdown",
   "id": "ffc8ab41-0cda-49bf-8449-06f7ef112250",
   "metadata": {},
   "source": [
    "<h1>Data science libraries</h1>\n",
    "<h3><ul>\n",
    "    <li>Pytorch</li>\n",
    "    <li>pandas</li>\n",
    "    <li>seaborn</li>\n",
    "    <li>numpy</li>\n",
    "    <li>keras</li>\n",
    "    <li>tensorlfow</li>\n",
    "    <li>theano</li>\n",
    "</ul> </h3> "
   ]
  },
  {
   "cell_type": "markdown",
   "id": "7781335c-74a9-4c73-8a60-f36e328f55a5",
   "metadata": {},
   "source": [
    "<h1>Data science tools</h1>\n",
    "<h3><ul>\n",
    "    <li>SAS</li>\n",
    "    <li>Apache Spark</li>\n",
    "    <li>BigML</li>\n",
    "    <li>D3</li>\n",
    "    <li>Excel</li>\n",
    "    <li>MATLAB</li>\n",
    "</ul> </h3> "
   ]
  },
  {
   "cell_type": "code",
   "execution_count": 5,
   "id": "c86d01b0-7784-44e1-8ff7-d0b8332bf6db",
   "metadata": {},
   "outputs": [
    {
     "name": "stdout",
     "output_type": "stream",
     "text": [
      "12\n"
     ]
    }
   ],
   "source": [
    "print(5+7)"
   ]
  },
  {
   "cell_type": "code",
   "execution_count": 5,
   "id": "394bf97d-a27c-400c-abae-285490ab5ad2",
   "metadata": {},
   "outputs": [
    {
     "name": "stdout",
     "output_type": "stream",
     "text": [
      "58\n"
     ]
    }
   ],
   "source": [
    "print(9+7*7)"
   ]
  },
  {
   "cell_type": "code",
   "execution_count": 2,
   "id": "d4bc8be9-d0ff-4af2-99e4-b83bc6ff52b0",
   "metadata": {
    "jupyter": {
     "source_hidden": true
    },
    "tags": []
   },
   "outputs": [
    {
     "name": "stdin",
     "output_type": "stream",
     "text": [
      "Input time in seconds:  1234\n"
     ]
    },
    {
     "name": "stdout",
     "output_type": "stream",
     "text": [
      "d:h:m:s-> 0:0:20:34\n"
     ]
    }
   ],
   "source": [
    "time = float(input(\"Input time in seconds: \"))\n",
    "day = time // (24 * 3600)\n",
    "time = time % (24 * 3600)\n",
    "hour = time // 3600\n",
    "time %= 3600\n",
    "minutes = time // 60\n",
    "time %= 60\n",
    "seconds = time\n",
    "print(\"d:h:m:s-> %d:%d:%d:%d\" % (day, hour, minutes, seconds))"
   ]
  },
  {
   "cell_type": "markdown",
   "id": "3046d468-ed96-4ef2-98dc-c85c0b97597b",
   "metadata": {},
   "source": [
    "<h1>Data science Objective list</h1>\n",
    "<h3><ul>\n",
    "<li>Collecting data</li>\n",
    "<li>Processing data</li>\n",
    "<li>Exploring and visualizing data</li>\n",
    "<li>Analyzing (data) and/or applying machine learning (to data)</li>\n",
    "<li>Deciding (or planning) based on acquired insight</li>\n",
    "</ul> </h3> "
   ]
  },
  {
   "cell_type": "markdown",
   "id": "f4b84860-8505-4c7b-86a1-37a62552cdf0",
   "metadata": {},
   "source": [
    "<h3>Author Name: Prakash</h3>"
   ]
  },
  {
   "cell_type": "markdown",
   "id": "567df67c-0fb9-4759-9b9e-b79d7ae68abc",
   "metadata": {},
   "source": []
  },
  {
   "cell_type": "code",
   "execution_count": null,
   "id": "4024d0f1-ff4c-4f7e-a982-a98fcb3ff323",
   "metadata": {},
   "outputs": [],
   "source": []
  }
 ],
 "metadata": {
  "kernelspec": {
   "display_name": "Python",
   "language": "python",
   "name": "conda-env-python-py"
  },
  "language_info": {
   "codemirror_mode": {
    "name": "ipython",
    "version": 3
   },
   "file_extension": ".py",
   "mimetype": "text/x-python",
   "name": "python",
   "nbconvert_exporter": "python",
   "pygments_lexer": "ipython3",
   "version": "3.7.12"
  }
 },
 "nbformat": 4,
 "nbformat_minor": 5
}
